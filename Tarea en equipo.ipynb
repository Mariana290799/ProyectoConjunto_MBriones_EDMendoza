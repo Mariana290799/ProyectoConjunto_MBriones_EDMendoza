{
 "cells": [
  {
   "cell_type": "markdown",
   "metadata": {},
   "source": [
    "<img style=\"float: left; margin: 30px 15px 15px 15px;\" src=\"https://pngimage.net/wp-content/uploads/2018/06/logo-iteso-png-5.png\" width=\"300\" height=\"500\" /> \n",
    "    \n",
    "    \n",
    "### <font color='navy'> Simulación de procesos financieros. \n",
    "\n",
    "**Nombres:** \n",
    "\n",
    "Mariana Briones Martínez \n",
    "\n",
    "Erick David MendozaGómez\n",
    "\n",
    "**Fecha:** 11 de febrero del2020\n",
    "\n",
    "**Expediente** : \n",
    "\n",
    "if715305 \n",
    "\n",
    "if713923\n",
    "\n",
    "**Profesor:** Oscar David Jaramillo Zuluaga.\n",
    "\n",
    "# Tarea 2: Entrega 2"
   ]
  },
  {
   "cell_type": "markdown",
   "metadata": {},
   "source": [
    "## Enunciado de tarea \n",
    "> Descripción de la tarea\n",
    "1. El archivo debe realizarse en parejas y sólo uno de los dos d\n",
    "ebe crear en su cuenta de\n",
    "\"Git-\n",
    "hub\"\n",
    "un repositorio con el nombre\n",
    "ProyectoConjunto_APELLIDO1_APELLIDO2\n",
    ",\n",
    "a esta persona la llamaremos (ESTUDIANTE 1 ). El APELLIDO se d\n",
    "ebe de escribir\n",
    "(Iniciales del nombre y primer apellido), por ejemplo si yo c\n",
    "reara el archivo lo debería\n",
    "de nombrar\n",
    "ProyectoConjunto_ODJaramillo\n",
    ".\n",
    "2. Posteriormente, desde la cuenta del (ESTUDIANTE 2) ’aque\n",
    "l que no creó el repositorio\n",
    "anterior’ ingresar al perfil del ESTUDIANTE 1 y en el reposito\n",
    "rio creado en el paso 1\n",
    "realizar un \"fork\"de este repositorio en su perfil, y además r\n",
    "ealizar los pasos en Gitkraken\n",
    "para hacer dicho repositorio Remoto (REMOTE)\"VER DICHO PRO\n",
    "CEDIMIENTO\n",
    "EN LA CLASE\n",
    "Clase2_GitTurorial2\n",
    ".\n",
    "3. Luego de realizados los pasos 1 y 2, el ESTUDIANTE 1 y ESTUDI\n",
    "ANTE 2, desde su\n",
    "computador realizan un\n",
    "clone\n",
    "del repositorio creado en el numeral 1 en la carpeta que\n",
    "cada quién haya asignado para el curso en su PC.\n",
    "4. Luego desde Jupyter el ESTUDIANTE 1, crear un nuevo “noteb\n",
    "ook“ en el repositorio\n",
    "del paso 3.\n",
    "5. En este nuevo notebook el ESTUDIANTE 1, debe realizar una p\n",
    "resentación describiendo\n",
    "sus expectativas del curso haciendo uso de la sintaxis Markd\n",
    "own. Además deberán\n",
    "reportar el resumen de alguno de estos dos artículos (dar cli\n",
    "ck para ingresar al enlace)\n",
    "•\n",
    "Documento economist 1\n",
    "•\n",
    "Documento economist 2\n",
    "Tal presentación debe de tener: los diferentes tipos de Enca\n",
    "bezados, código L\n",
    "A\n",
    "T\n",
    "E\n",
    "X, donde\n",
    "deben de replicar el contenido de la Figura 5. Además debe de c\n",
    "ontar con imágenes y\n",
    "alguna tabla con información variada.\n",
    "RECOMENDACIÓN\n",
    ":ANTES DE EMPEZAR A REALIZAR MUCHAS MO-\n",
    "DIFICACIONES DEL NOTEBOOK PRIMERO REALICEN CAMBIOS\n",
    "PEQUEÑOS EN EL ARCHIVO EN CONJUNTO Y VERIFIQUEN SI TAN-\n",
    "TO EL “ESTUDIANTE 1 COMO EL ESTUDIANTE 2RECIBEN LAS AC-\n",
    "TUALIZACIONES QUE REALIZAN CADA UNO EN EL PROYECTO\n",
    "PARA VERIFICAR QUE EL REMOTE ESTUVO BIEN CONFIGURA-\n",
    "DO.\n",
    "6. Posteriormente que el ESTUDIANTE 1 haya realizado su pres\n",
    "entación en el paso 5,\n",
    "el ESTUDIANTE 2 deberá de añadir lo realizado por ESTUDIANTE\n",
    "1, en el paso\n",
    "anterior y añadirlo al proyecto conjunto\n",
    "7. Cuando ya se encuentre el proyecto conjunto con la informa\n",
    "ción del ESTUDIANTE 1\n",
    "y ESTUDIANTE 2, ambos estudiantes deberán empezar a hacer ”p\n",
    "ull request” donde\n",
    "cada uno deberá realizar cambios o adicionar información a l\n",
    "os datos suministrados\n",
    "por su compañero. (Recuerden que los pull request se generan\n",
    "en\n",
    "Gitkraken\n",
    "y se ad-\n",
    "ministran los comentarios o cambios propuestos por su compa\n",
    "ñero desde\n",
    "Github\n",
    "”\n",
    "ver\n",
    "Clase1_GitTurorial\n",
    "para aclaración de dudas” donde se explica el crear\n",
    "branch y pull\n",
    "request\n",
    ").\n",
    "8. Luego de culminado los pasos anteriores, el ESTUDIANTE 1,\n",
    "realizará un programa\n",
    "que imprima la serie de fibonacci para sus primeros 100 términ\n",
    "os en un array de python,\n",
    "usando la rama\n",
    "“master”\n",
    "del repositorio creado. Por otro lado, el ESTUDIANTE 2,\n",
    "creando un “branch” llamado\n",
    "ejerProgra\n",
    ", generará un programa que muestre los nú-\n",
    "meros primos del 0-100. Luego de que el ESTUDIANTE 2 haya term\n",
    "inado su programa,\n",
    "debe de realizar un “pull request” al ESTUDIANTE 1, antes de h\n",
    "acer un “merge” de\n",
    "la rama\n",
    "ejerProgra\n",
    "a el proyecto principal (“master”). Luego de realizado esto\n",
    "s pasos\n",
    "NO BORRAR LA RAMA CREADA."
   ]
  },
  {
   "cell_type": "markdown",
   "metadata": {},
   "source": [
    "## Mi expectativa de estudiante 1\n",
    "es aprender a sintetizar mi forma de programar y poder simular de forma eficiente\n"
   ]
  },
  {
   "cell_type": "markdown",
   "metadata": {},
   "source": [
    "# Expectativas Est-2"
   ]
  },
  {
   "cell_type": "markdown",
   "metadata": {},
   "source": [
    "* Dominar el uso de GitKraken y sus herramientas.\n",
    "* Poder utilizar GitHub y GitKraken para facilitar los proyectos de otras materias.\n",
    "* Poder desarrollar una lógica para programar más eficiente.\n",
    "* Aprender comandos más sencillos.\n",
    "* Reducir mi tiempo a la hora de programar ya que en la actualidad cuesta mucho trabajo."
   ]
  },
  {
   "cell_type": "markdown",
   "metadata": {},
   "source": [
    "# Resumen Est-1"
   ]
  },
  {
   "cell_type": "markdown",
   "metadata": {},
   "source": [
    "## **Python is becoming the world’s most popular coding language**\n",
    "El cuel menciona que el autor del programa Python no esperaba que el codigo que el creo llegara a donde esta llegando, que despues de casi tres decadas el codigo ha recibido muchas mas visitas que kim kardasian.\n",
    "\n",
    "Menciona que dos de las ventajas de este es que es mas simple y flexible por lo cual, hace mucho mas facil poder leerlo, aprenderlo y compartirlo. Asi mismo dice que ayuda al aprendizaje automatico ya que procesa grandes cantidades de datos para seleccionar patrones que de otro modo serian imperceptibles.\n",
    "\n",
    "Dice que con tantos usuarios python podria convertirse en la lengua franca de la codificacion, dejando obsoletos a los demas.\n",
    "\n",
    "Sin embargo apesar de ser muy utilizada dice que python no podra remplazar Java, C y C++ ya que estos le dan mas control al usuario mas control sobre lo que esta sucediendo en el procesador de su computadora."
   ]
  },
  {
   "cell_type": "markdown",
   "metadata": {},
   "source": [
    "# Resumen Est-2"
   ]
  },
  {
   "cell_type": "markdown",
   "metadata": {},
   "source": [
    "*Simplicidad y flexibilidad son las dos grandes ventajas sobre el lenguaje en Python; la creación que ha dado mucho de que hablar en la internet, despúes de un trabajo fenomenal por parte de Guido Van Rossum es el más utilizado para programar.*\n",
    "\n",
    "*En la actualidad existen miles de personas decodificando apoyando este gran proyecto, sin embargo las grandes empresas de programación como JAVA, entre otras, se han visto por debajo de la practicidad del uso de Python, ahora con esto se podrá tener una infinidad de algoritmos y podrá crecer a nivel exponencial la programación en el mundo.*"
   ]
  },
  {
   "cell_type": "markdown",
   "metadata": {},
   "source": [
    ">\"CIERTAMENTE no me propuse crear un lenguaje destinado al consumo masivo\", dice Guido van Rossum, un informático holandés que ideó Python, un lenguaje de programación, en 1989. "
   ]
  },
  {
   "cell_type": "markdown",
   "metadata": {},
   "source": [
    "[Referencia](https://www.economist.com/graphic-detail/2018/07/26/python-is-becoming-the-worlds-most-popular-coding-language)"
   ]
  },
  {
   "cell_type": "markdown",
   "metadata": {},
   "source": [
    "## Estudiante 1:"
   ]
  },
  {
   "cell_type": "markdown",
   "metadata": {},
   "source": [
    " 1. La fórmula del rectángulo se obtiene al interpolar a $f(x)$ por medio del polinomio constante $P0(x) = f({a+b\\over 2})$.\n",
    " $$\\int f(x)dx= (b-a)f({a+b\\over 2})=R(f)$$\n",
    " \n",
    " \n",
    " 2. La fórmula del trapecio se obtiene al interpolar a $f$ por medio de un polinomio lineal $P1(x) = \\alpha x + \\beta$ que satisfaga $f(a)=P1(a)$.y $f(b)=P1(b)$ . Determinar el polinomio lineal es equivalente a resolver un sistema de ecuaciones lineales para $\\alpha$ y $\\beta$ cuya solución es:\n",
    " $$\\alpha={f(b)-f(a)\\over b-a} \\beta={f(b)a-f(a)b\\over b-a}$$\n",
    " \n",
    " Al integrar $P1(x)$en el intervalo $[a,b]$ se obtiene la regla del trapeciocon $h=b-a$\n",
    " $$\\int f(x)dx=\\int P1(x)dx= {h\\over 2}(f(a)+f(b))=T(f)$$\n",
    " \n",
    " El error esta dado por\n",
    " $$\\int f(x)dx-T(f)=-{h^3\\over12}(f^n(n)). a<n<b $$\n",
    " \n",
    " 3. Por último al integrar $P1(x)$  el polinomio cuadrático que interpola a $f$ en $x=a, x={a+b\\over2}$, y $x=b$ se obtiene la regla de Simpson con $h={b-\\over 2}\n",
    " $$\\int f(x)dx=\\int P2(x)dx={h\\over 3}(f(a)-4f(a+h)+f(b))=S(f)$$\n",
    " \n",
    " El error que se comete al usar Simpson es:\n",
    " $$\\int f(x)dx-S(f)={h^5\\over 90}(f^4(n)).  a<n<b.$$"
   ]
  },
  {
   "cell_type": "markdown",
   "metadata": {},
   "source": [
    "## Estudiante 2:"
   ]
  },
  {
   "cell_type": "markdown",
   "metadata": {},
   "source": [
    "1. La fórmula del rectángulo se obtiene al interpolar a $f(x)$ por medio del polinomio constante $P0(x) = f({a+b\\over 2})$.\n",
    " $$\\int f(x)dx= (b-a)f({a+b\\over 2})=R(f)$$\n",
    " \n",
    " \n",
    " 2. La fórmula del trapecio se obtiene al interpolar a $f$ por medio de un polinomio lineal $P1(x) = \\alpha x + \\beta$ que satisfaga $f(a)=P1(a)$.y $f(b)=P1(b)$ . Determinar el polinomio lineal es equivalente a resolver un sistema de ecuaciones lineales para $\\alpha$ y $\\beta$ cuya solución es:\n",
    " $$\\alpha={f(b)-f(a)\\over b-a} \\beta={f(b)a-f(a)b\\over b-a}$$\n",
    " \n",
    " Al integrar $P1(x)$en el intervalo $[a,b]$ se obtiene la regla del trapeciocon $h=b-a$\n",
    " $$\\int f(x)dx=\\int P1(x)dx= {h\\over 2}(f(a)+f(b))=T(f)$$\n",
    " \n",
    " El error esta dado por\n",
    " $$\\int f(x)dx-T(f)=-{h^3\\over12}(f^n(n)). a<n<b $$\n",
    " \n",
    " 3. Por último al integrar $P1(x)$  el polinomio cuadrático que interpola a $f$ en $x=a, x={a+b\\over2}$, y $x=b$ se obtiene la regla de Simpson con $h={b-\\over 2}\n",
    " $$\\int f(x)dx=\\int P2(x)dx={h\\over 3}(f(a)-4f(a+h)+f(b))=S(f)$$\n",
    " \n",
    " El error que se comete al usar Simpson es:\n",
    " $$\\int f(x)dx-S(f)={h^5\\over 90}(f^4(n)).  a<n<b.$$"
   ]
  },
  {
   "cell_type": "markdown",
   "metadata": {},
   "source": [
    "# Serie de fibonacci"
   ]
  },
  {
   "cell_type": "code",
   "execution_count": 10,
   "metadata": {},
   "outputs": [
    {
     "name": "stdout",
     "output_type": "stream",
     "text": [
      "0 1 1 2 3 5 8 13 21 34 55 89 144 233 377 610 987 \n"
     ]
    }
   ],
   "source": [
    "def serief(n):\n",
    "    a, b = 0,1\n",
    "    while a < n:\n",
    "        print(a, end=' ')\n",
    "        a, b = b, a+b\n",
    "    print()\n",
    "serief(1000)"
   ]
  },
  {
   "cell_type": "markdown",
   "metadata": {},
   "source": [
    "# Numeros Primos"
   ]
  },
  {
   "cell_type": "code",
   "execution_count": 6,
   "metadata": {},
   "outputs": [
    {
     "name": "stdout",
     "output_type": "stream",
     "text": [
      "2\n",
      "3\n",
      "5\n",
      "7\n",
      "11\n",
      "13\n",
      "17\n",
      "19\n",
      "23\n",
      "29\n",
      "31\n",
      "37\n",
      "41\n",
      "43\n",
      "47\n",
      "53\n",
      "59\n",
      "61\n",
      "67\n",
      "71\n",
      "73\n",
      "79\n",
      "83\n",
      "89\n",
      "97\n"
     ]
    }
   ],
   "source": [
    "import math  \n",
    "def esPrimo(num):  \n",
    " for i in range(3,int(math.sqrt(num))+1,2):  \n",
    "  if num%i==0:  \n",
    "   return False  \n",
    " return True  \n",
    "def listaPrimos(limite):  \n",
    " print(2)  \n",
    " for j in range(3,limite+1,2):  \n",
    "  if esPrimo(j):  \n",
    "   print(j)  \n",
    "listaPrimos(100)  "
   ]
  },
  {
   "cell_type": "code",
   "execution_count": null,
   "metadata": {},
   "outputs": [],
   "source": []
  }
 ],
 "metadata": {
  "kernelspec": {
   "display_name": "Python 3",
   "language": "python",
   "name": "python3"
  },
  "language_info": {
   "codemirror_mode": {
    "name": "ipython",
    "version": 3
   },
   "file_extension": ".py",
   "mimetype": "text/x-python",
   "name": "python",
   "nbconvert_exporter": "python",
   "pygments_lexer": "ipython3",
   "version": "3.7.4"
  }
 },
 "nbformat": 4,
 "nbformat_minor": 2
}
